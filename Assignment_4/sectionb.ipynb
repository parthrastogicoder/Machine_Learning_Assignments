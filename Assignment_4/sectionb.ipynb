{
 "cells": [
  {
   "cell_type": "markdown",
   "metadata": {},
   "source": [
    "# Importing Libraries"
   ]
  },
  {
   "cell_type": "code",
   "execution_count": 1,
   "metadata": {},
   "outputs": [
    {
     "name": "stderr",
     "output_type": "stream",
     "text": [
      "c:\\Users\\halog\\anaconda3\\Lib\\site-packages\\pandas\\core\\arrays\\masked.py:60: UserWarning: Pandas requires version '1.3.6' or newer of 'bottleneck' (version '1.3.5' currently installed).\n",
      "  from pandas.core import (\n"
     ]
    }
   ],
   "source": [
    "import pandas as pd \n",
    "import numpy as np\n",
    "import matplotlib.pyplot as plt\n",
    "import seaborn as sns"
   ]
  },
  {
   "cell_type": "markdown",
   "metadata": {},
   "source": [
    "# Dataset Load "
   ]
  },
  {
   "cell_type": "code",
   "execution_count": 2,
   "metadata": {},
   "outputs": [],
   "source": [
    "X = [[5.1, 3.5],[4.9, 3.0],[5.8, 2.7],[6.0, 3.0],[6.7, 3.1],\n",
    "     [4.5, 2.3],[6.1, 2.8],[5.2, 3.2],[5.5, 2.6],[5.0, 2.0],\n",
    "     [8.0, 0.5],[7.5, 0.8],[8.1, -0.1],[2.5, 3.5],[1.0, 3.0],\n",
    "     [4.5, -1.0],[3.0, -0.5],[5.1, -0.2],[6.0, -1.5],[3.5, -0.1],\n",
    "    [4.0, 0.0],[6.1, 0.5],[5.4, -0.5],[5.3, 0.3],[5.8, 0.6]]"
   ]
  },
  {
   "cell_type": "markdown",
   "metadata": {},
   "source": [
    "# Initializing Constants "
   ]
  },
  {
   "cell_type": "code",
   "execution_count": null,
   "metadata": {},
   "outputs": [],
   "source": [
    "c1 = [3.0,3.0]\n",
    "c2 = [2.0,2.0]\n",
    "minx1= min([x[0] for x in X])\n",
    "maxx1= max([x[0] for x in X])\n",
    "minx2= min([x[1] for x in X])\n",
    "maxx2= max([x[1] for x in X])"
   ]
  },
  {
   "cell_type": "markdown",
   "metadata": {},
   "source": [
    "# Euclidian Distance "
   ]
  },
  {
   "cell_type": "code",
   "execution_count": 4,
   "metadata": {},
   "outputs": [],
   "source": [
    "def euclidean_distance(x1,y1, x2,y2):\n",
    "    return np.sqrt((x1-x2)**2 + (y1-y2)**2)"
   ]
  },
  {
   "cell_type": "code",
   "execution_count": 5,
   "metadata": {},
   "outputs": [
    {
     "name": "stdout",
     "output_type": "stream",
     "text": [
      "epoch 1\n",
      "c1 [5.77058824 2.01764706]\n",
      "c2 [ 4.0625 -0.1   ]\n",
      "epoch 2\n",
      "c1 [5.8   2.125]\n",
      "c2 [ 4.2        -0.05555556]\n",
      "epoch 3\n",
      "c1 [5.8   2.125]\n",
      "c2 [ 4.2        -0.05555556]\n"
     ]
    }
   ],
   "source": [
    "i =0 \n",
    "c1_current = c1\n",
    "c2_current = c2\n",
    "c2_prev = c2\n",
    "c1_prev = c1\n",
    "while i<100:\n",
    "    pt1 = []\n",
    "    pt2 = []\n",
    "    for x in X:\n",
    "        d1 = euclidean_distance(c1_current[0], c1_current[1], x[0], x[1])\n",
    "        d2 = euclidean_distance(c2_current[0], c2_current[1], x[0], x[1])\n",
    "        if d1 < d2:\n",
    "            pt1.append(x)\n",
    "        else:\n",
    "            pt2.append(x)\n",
    "    c1_prev = c1_current\n",
    "    c2_prev = c2_current\n",
    "    if len(pt1) > 0:\n",
    "        c1_current = np.mean(pt1, axis=0)\n",
    "    if len(pt2) > 0:\n",
    "        c2_current = np.mean(pt2, axis=0)\n",
    "    if len(pt1) == 0:\n",
    "        c1_current = [np.random.uniform(minx1, maxx1), np.random.uniform(minx2, maxx2)]\n",
    "    if len(pt2) == 0:\n",
    "        c2_current = [np.random.uniform(minx1, maxx1), np.random.uniform(minx2, maxx2)]\n",
    "    i +=1\n",
    "    print (\"epoch\", i)\n",
    "    print (\"c1\", c1_current)\n",
    "    print (\"c2\", c2_current)\n",
    "    \n",
    "    if np.all(c1_current == c1_prev) and np.all(c2_current == c2_prev):\n",
    "        break\n",
    "    if euclidean_distance(c1_current[0], c1_current[1], c1_prev[0], c1_prev[1]) < 1e-4 and euclidean_distance(c2_current[0], c2_current[1], c2_prev[0], c2_prev[1]) < 1e-4:\n",
    "        break\n",
    "\n",
    "\n"
   ]
  },
  {
   "cell_type": "code",
   "execution_count": 6,
   "metadata": {},
   "outputs": [
    {
     "name": "stdout",
     "output_type": "stream",
     "text": [
      "Final Centroids\n",
      "Centroid 1:  [5.8   2.125]\n",
      "Centroid 2:  [ 4.2        -0.05555556]\n"
     ]
    }
   ],
   "source": [
    "# final centroids\n",
    "\n",
    "print(\"Final Centroids\")\n",
    "print(\"Centroid 1: \", c1_current)\n",
    "print(\"Centroid 2: \", c2_current)\n",
    "\n",
    "\n"
   ]
  },
  {
   "cell_type": "code",
   "execution_count": 7,
   "metadata": {},
   "outputs": [
    {
     "data": {
      "image/png": "[encoded data removed]",
      "text/plain": [
       "<Figure size 640x480 with 1 Axes>"
      ]
     },
     "metadata": {},
     "output_type": "display_data"
    }
   ],
   "source": [
    "\n",
    "cluster1=[]\n",
    "cluster2=[]\n",
    "for x in X:\n",
    "    d1 = euclidean_distance(c1_current[0], c1_current[1], x[0], x[1])\n",
    "    d2 = euclidean_distance(c2_current[0], c2_current[1], x[0], x[1])\n",
    "    if d1 < d2:\n",
    "        cluster1.append(x)\n",
    "    else:\n",
    "        cluster2.append(x)\n",
    "cluster1 = np.array(cluster1)\n",
    "cluster2 = np.array(cluster2)\n",
    "plt.scatter(cluster1[:,0], cluster1[:,1], color='red')\n",
    "plt.scatter(cluster2[:,0], cluster2[:,1], color='blue')\n",
    "plt.scatter(c1_current[0], c1_current[1], color='black')\n",
    "plt.scatter(c2_current[0], c2_current[1], color='black')\n",
    "plt.show()\n",
    "\n",
    "\n"
   ]
  },
  {
   "cell_type": "code",
   "execution_count": null,
   "metadata": {},
   "outputs": [
    {
     "name": "stdout",
     "output_type": "stream",
     "text": [
      "epoch 1\n",
      "c1 [ 4.98888889 -0.4       ]\n",
      "c2 [5.35625 2.31875]\n",
      "epoch 2\n",
      "c1 [ 5.4        -0.16666667]\n",
      "c2 [5.06153846 2.73076923]\n",
      "epoch 3\n",
      "c1 [ 5.56153846 -0.09230769]\n",
      "c2 [4.85833333 2.89166667]\n",
      "epoch 4\n",
      "c1 [ 5.56153846 -0.09230769]\n",
      "c2 [4.85833333 2.89166667]\n"
     ]
    }
   ],
   "source": [
    "# now random initialization of c1 and c2\n",
    "minx1= min([x[0] for x in X])\n",
    "maxx1= max([x[0] for x in X])\n",
    "minx2= min([x[1] for x in X])\n",
    "maxx2= max([x[1] for x in X])\n",
    "\n",
    "c1 = [np.random.uniform(minx1, maxx1), np.random.uniform(minx2, maxx2)]\n",
    "c2 = [np.random.uniform(minx1, maxx1), np.random.uniform(minx2, maxx2)]\n",
    "\n",
    "i =0\n",
    "c1_current = c1\n",
    "c2_current = c2\n",
    "c2_prev = c2\n",
    "c1_prev = c1\n",
    "while i<100:\n",
    "    pt1 = []\n",
    "    pt2 = []\n",
    "    for x in X:\n",
    "        d1 = euclidean_distance(c1_current[0], c1_current[1], x[0], x[1])\n",
    "        d2 = euclidean_distance(c2_current[0], c2_current[1], x[0], x[1])\n",
    "        if d1 < d2:\n",
    "            pt1.append(x)\n",
    "        else:\n",
    "            pt2.append(x)\n",
    "    c1_prev = c1_current\n",
    "    c2_prev = c2_current\n",
    "    if len(pt1) > 0:\n",
    "        c1_current = np.mean(pt1, axis=0)\n",
    "    if len(pt2) > 0:\n",
    "        c2_current = np.mean(pt2, axis=0)\n",
    "    if len(pt1) == 0:\n",
    "        c1_current = [np.random.uniform(minx1, maxx1), np.random.uniform(minx2, maxx2)]\n",
    "    if len(pt2) == 0:\n",
    "        c2_current = [np.random.uniform(minx1, maxx1), np.random.uniform(minx2, maxx2)]\n",
    "    i +=1\n",
    "    print (\"epoch\", i)\n",
    "    print (\"c1\", c1_current)\n",
    "    print (\"c2\", c2_current)\n",
    "    \n",
    "    if np.all(c1_current == c1_prev) and np.all(c2_current == c2_prev):\n",
    "        break\n",
    "    if euclidean_distance(c1_current[0], c1_current[1], c1_prev[0], c1_prev[1]) < 1e-4 and euclidean_distance(c2_current[0], c2_current[1], c2_prev[0], c2_prev[1]) < 1e-4:\n",
    "        break\n",
    "\n",
    "\n"
   ]
  },
  {
   "cell_type": "code",
   "execution_count": null,
   "metadata": {},
   "outputs": [
    {
     "name": "stdout",
     "output_type": "stream",
     "text": [
      "Final Centroids\n",
      "Centroid 1:  [5.94444444 1.6       ]\n",
      "Centroid 2:  [3.37142857 0.67142857]\n"
     ]
    }
   ],
   "source": [
    "print(\"Final Centroids\")\n",
    "print(\"Centroid 1: \", c1_current)\n",
    "print(\"Centroid 2: \", c2_current)"
   ]
  },
  {
   "cell_type": "code",
   "execution_count": null,
   "metadata": {},
   "outputs": [
    {
     "data": {
      "image/png": "[encoded data removed]",
      "text/plain": [
       "<Figure size 640x480 with 1 Axes>"
      ]
     },
     "metadata": {},
     "output_type": "display_data"
    }
   ],
   "source": [
    "cluster1=[]\n",
    "cluster2=[]\n",
    "for x in X:\n",
    "    d1 = euclidean_distance(c1_current[0], c1_current[1], x[0], x[1])\n",
    "    d2 = euclidean_distance(c2_current[0], c2_current[1], x[0], x[1])\n",
    "    if d1 < d2:\n",
    "        cluster1.append(x)\n",
    "    else:\n",
    "        cluster2.append(x)\n",
    "\n",
    "cluster1 = np.array(cluster1)\n",
    "cluster2 = np.array(cluster2)\n",
    "plt.scatter(cluster1[:,0], cluster1[:,1], color='red')\n",
    "plt.scatter(cluster2[:,0], cluster2[:,1], color='blue')\n",
    "plt.scatter(c1_current[0], c1_current[1], color='black')\n",
    "plt.scatter(c2_current[0], c2_current[1], color='black')\n",
    "plt.show()"
   ]
  },
  {
   "cell_type": "code",
   "execution_count": null,
   "metadata": {},
   "outputs": [
    {
     "data": {
      "image/png": "[encoded data removed]",
      "text/plain": [
       "<Figure size 640x480 with 1 Axes>"
      ]
     },
     "metadata": {},
     "output_type": "display_data"
    }
   ],
   "source": [
    "wcss = []\n",
    "for k in range(1, 20):\n",
    "    l1=[]\n",
    "    for _ in range(100):\n",
    "        c = []\n",
    "        for i in range(k):\n",
    "            c.append([np.random.uniform(minx1, maxx1), np.random.uniform(minx2, maxx2)])\n",
    "        i =0\n",
    "        c_current = c\n",
    "        c_prev = c\n",
    "        while i<1000:\n",
    "            pt = []\n",
    "            for x in X:\n",
    "                d = []\n",
    "                for j in range(k):\n",
    "                    d.append(euclidean_distance(c_current[j][0], c_current[j][1], x[0], x[1]))\n",
    "                pt.append(np.argmin(d))\n",
    "            c_prev = c_current\n",
    "            for j in range(k):\n",
    "                c_current[j] = np.mean([X[l] for l in range(len(X)) if pt[l] == j], axis=0)\n",
    "            i +=1\n",
    "            if np.all(c_current == c_prev):\n",
    "                break\n",
    "            if all([euclidean_distance(c_current[j][0], c_current[j][1], c_prev[j][0], c_prev[j][1]) < 1e-4 for j in range(k)]):\n",
    "                break\n",
    "        l1.append(sum([euclidean_distance(c_current[pt[l]][0], c_current[pt[l]][1], X[l][0], X[l][1])**2 for l in range(len(X))]))\n",
    "    l1=np.array(l1)\n",
    "    wcss.append(l1.mean())\n",
    "plt.plot(range(1, 20), wcss)\n",
    "plt.title('Elbow Method')\n",
    "plt.xlabel('Number of clusters')\n",
    "plt.ylabel('WCSS')\n",
    "plt.show()\n",
    "\n"
   ]
  },
  {
   "cell_type": "code",
   "execution_count": 54,
   "metadata": {},
   "outputs": [],
   "source": [
    "\n",
    "# Perform clustering with the optimal number of clusters 5 and plot the resulting clusters\n",
    "c = []\n",
    "for i in range(5):\n",
    "    c.append([np.random.uniform(minx1, maxx1), np.random.uniform(minx2, maxx2)])\n",
    "i =0\n",
    "c_current = c\n",
    "c_prev = c\n",
    "while i<100:\n",
    "    pt = []\n",
    "    for x in X:\n",
    "        d = []\n",
    "        for j in range(5):\n",
    "            d.append(euclidean_distance(c_current[j][0], c_current[j][1], x[0], x[1]))\n",
    "        pt.append(np.argmin(d))\n",
    "    c_prev = c_current\n",
    "    for j in range(5):\n",
    "        if len([X[l] for l in range(len(X)) if pt[l] == j]) == 0:\n",
    "            c_current[j] = [np.random.uniform(minx1, maxx1), np.random.uniform(minx2, maxx2)]\n",
    "        else:\n",
    "            c_current[j] = np.mean([X[l] for l in range(len(X)) if pt[l] == j], axis=0)\n",
    "    i +=1\n",
    "    if np.all(c_current == c_prev):\n",
    "        break\n",
    "    if all([euclidean_distance(c_current[j][0], c_current[j][1], c_prev[j][0], c_prev[j][1]) < 1e-4 for j in range(5)]):\n",
    "        break\n",
    "\n",
    "cluster1=[]\n",
    "cluster2=[]\n",
    "cluster3=[]\n",
    "cluster4=[]\n",
    "cluster5=[]\n",
    "\n",
    "for x in X:\n",
    "    d = []\n",
    "    for j in range(5):\n",
    "        d.append(euclidean_distance(c_current[j][0], c_current[j][1], x[0], x[1]))\n",
    "    if np.argmin(d) == 0:\n",
    "        cluster1.append(x)\n",
    "    elif np.argmin(d) == 1:\n",
    "        cluster2.append(x)\n",
    "    elif np.argmin(d) == 2:\n",
    "        cluster3.append(x)\n",
    "    elif np.argmin(d) == 3:\n",
    "        cluster4.append(x)\n",
    "    else:\n",
    "        cluster5.append(x)\n",
    "\n"
   ]
  },
  {
   "cell_type": "code",
   "execution_count": 55,
   "metadata": {},
   "outputs": [
    {
     "data": {
      "image/png": "[encoded data removed]",
      "text/plain": [
       "<Figure size 640x480 with 1 Axes>"
      ]
     },
     "metadata": {},
     "output_type": "display_data"
    }
   ],
   "source": [
    "\n",
    "cluster1 = np.array(cluster1)\n",
    "cluster2 = np.array(cluster2)\n",
    "cluster3 = np.array(cluster3)\n",
    "cluster4 = np.array(cluster4)\n",
    "cluster5 = np.array(cluster5)\n",
    "plt.scatter(cluster1[:,0], cluster1[:,1], color='red')\n",
    "plt.scatter(cluster2[:,0], cluster2[:,1], color='blue')\n",
    "plt.scatter(cluster3[:,0], cluster3[:,1], color='green')\n",
    "plt.scatter(cluster4[:,0], cluster4[:,1], color='yellow')\n",
    "plt.scatter(cluster5[:,0], cluster5[:,1], color='black')\n",
    "\n",
    "for j in range(5):\n",
    "    plt.scatter(c_current[j][0], c_current[j][1], color='Pink' ,marker='x')\n",
    "plt.show()\n",
    "\n",
    "\n"
   ]
  },
  {
   "cell_type": "code",
   "execution_count": null,
   "metadata": {},
   "outputs": [],
   "source": []
  }
 ],
 "metadata": {
  "kernelspec": {
   "display_name": "base",
   "language": "python",
   "name": "python3"
  },
  "language_info": {
   "codemirror_mode": {
    "name": "ipython",
    "version": 3
   },
   "file_extension": ".py",
   "mimetype": "text/x-python",
   "name": "python",
   "nbconvert_exporter": "python",
   "pygments_lexer": "ipython3",
   "version": "3.11.4"
  }
 },
 "nbformat": 4,
 "nbformat_minor": 2
}
